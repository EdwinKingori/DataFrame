{
 "cells": [
  {
   "cell_type": "code",
   "execution_count": 13,
   "id": "d101b6fe-9bf1-43c5-b794-1cf1e51acb4e",
   "metadata": {},
   "outputs": [],
   "source": [
    "import pandas as pd\n",
    "import numpy as np"
   ]
  },
  {
   "cell_type": "raw",
   "id": "005ab955-6223-4e44-9633-12c2f1cfd37e",
   "metadata": {},
   "source": [
    " Running Tests"
   ]
  },
  {
   "cell_type": "code",
   "execution_count": 4,
   "id": "7e0f89a1-1daa-47d4-b878-3a483a8012f6",
   "metadata": {},
   "outputs": [
    {
     "name": "stdout",
     "output_type": "stream",
     "text": [
      "[['a' 'b']\n",
      " ['d' 'e']\n",
      " ['g' 'h']]\n"
     ]
    }
   ],
   "source": [
    " A = np.array([\n",
    "    ['a', 'b', 'c'],\n",
    "    ['d', 'e', 'f'],\n",
    "    ['g', 'h', 'i']\n",
    "])\n",
    "\n",
    "print(A[:, :2])"
   ]
  },
  {
   "cell_type": "code",
   "execution_count": 10,
   "id": "42b5d456-0f21-4631-8381-6f92d1efd2a9",
   "metadata": {},
   "outputs": [
    {
     "name": "stdout",
     "output_type": "stream",
     "text": [
      "[ True  True  True  True False]\n"
     ]
    }
   ],
   "source": [
    "a = np.arange(5)\n",
    "print(a <= 3)"
   ]
  },
  {
   "cell_type": "code",
   "execution_count": 38,
   "id": "1fb65116-863b-451e-92c1-c6dbfaac488e",
   "metadata": {},
   "outputs": [
    {
     "name": "stdout",
     "output_type": "stream",
     "text": [
      "Certificates        5\n",
      "Time (in months)    9\n",
      "Name: Ahmad, dtype: int64\n"
     ]
    }
   ],
   "source": [
    "certificates_earned = pd.DataFrame({\n",
    "    'Certificates': [8, 2, 5, 6],\n",
    "    'Time (in months)': [16, 5, 9, 12]\n",
    "})\n",
    "\n",
    "certificates_earned.index = ['Tom', 'Kris', 'Ahmad', 'Beau']\n",
    "\n",
    "print(certificates_earned.iloc[2])"
   ]
  },
  {
   "cell_type": "code",
   "execution_count": 39,
   "id": "3d3bd4da-5f84-4bf0-9752-37a450c7fe9f",
   "metadata": {},
   "outputs": [
    {
     "name": "stdout",
     "output_type": "stream",
     "text": [
      "Tom     8\n",
      "Beau    6\n",
      "dtype: int64\n"
     ]
    }
   ],
   "source": [
    "certificates_earned = pd.Series(\n",
    "    [8, 2, 5, 6],\n",
    "    index=['Tom', 'Kris', 'Ahmad', 'Beau']\n",
    ")\n",
    "\n",
    "print(certificates_earned[certificates_earned > 5])"
   ]
  },
  {
   "cell_type": "code",
   "execution_count": 40,
   "id": "2e582a3a-291b-42d2-bc88-d6a54ef85ffc",
   "metadata": {},
   "outputs": [
    {
     "name": "stdout",
     "output_type": "stream",
     "text": [
      "Tom      8\n",
      "Kris     2\n",
      "Ahmad    5\n",
      "Beau     6\n",
      "dtype: int64\n"
     ]
    }
   ],
   "source": [
    "certificates_earned = pd.Series(\n",
    "    [8, 2, 5, 6],\n",
    "    index=['Tom', 'Kris', 'Ahmad', 'Beau']\n",
    ")\n",
    "\n",
    "print(certificates_earned)"
   ]
  },
  {
   "cell_type": "raw",
   "id": "15a36d02-4bbf-4493-ba11-3d583cdbda27",
   "metadata": {},
   "source": [
    "What code would add a \"Certificates per month\" column to the certificates_earned DataFrame like the one below?\n",
    "\n",
    "      Certificates  Time (in months)  Certificates per month\n",
    "Tom               8                16                    0.50\n",
    "Kris              2                 5                    0.40\n",
    "Ahmad             5                 9                    0.56\n",
    "Beau              6                12                    0.50"
   ]
  },
  {
   "cell_type": "markdown",
   "id": "d08918f3-3267-4779-9f5f-d6eeaa2fb397",
   "metadata": {},
   "source": [
    "Answer: \n",
    "    certificates_earned['Certificates per month'] = round(\n",
    "    certificates_earned['Certificates'] /\n",
    "    certificates_earned['Time (in months)'], 2\n",
    ")"
   ]
  }
 ],
 "metadata": {
  "kernelspec": {
   "display_name": "Python 3 (ipykernel)",
   "language": "python",
   "name": "python3"
  },
  "language_info": {
   "codemirror_mode": {
    "name": "ipython",
    "version": 3
   },
   "file_extension": ".py",
   "mimetype": "text/x-python",
   "name": "python",
   "nbconvert_exporter": "python",
   "pygments_lexer": "ipython3",
   "version": "3.10.6"
  },
  "toc-autonumbering": false,
  "toc-showcode": true,
  "toc-showmarkdowntxt": true
 },
 "nbformat": 4,
 "nbformat_minor": 5
}
